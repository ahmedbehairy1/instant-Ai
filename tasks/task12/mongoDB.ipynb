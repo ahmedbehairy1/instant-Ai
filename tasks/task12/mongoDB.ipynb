{
 "cells": [
  {
   "cell_type": "markdown",
   "id": "d86b1713",
   "metadata": {},
   "source": [
    " How to read MongoDB (json objects)\n",
    " \n",
    " install pip install pymongo"
   ]
  },
  {
   "cell_type": "code",
   "execution_count": null,
   "id": "8c25cac0",
   "metadata": {},
   "outputs": [],
   "source": [
    "from pymongo import MongoClient\n",
    "\n",
    "# Replace the connection string with your actual MongoDB connection string\n",
    "connection_string = \"mongodb+srv://<username>:<password>@cluster.mongodb.net/test?retryWrites=true&w=majority\"\n",
    "client = MongoClient(connection_string)\n",
    "\n",
    "# Select the database and collection\n",
    "db = client['your_database_name']\n",
    "collection = db['your_collection_name']"
   ]
  }
 ],
 "metadata": {
  "kernelspec": {
   "display_name": "Python 3 (ipykernel)",
   "language": "python",
   "name": "python3"
  },
  "language_info": {
   "codemirror_mode": {
    "name": "ipython",
    "version": 3
   },
   "file_extension": ".py",
   "mimetype": "text/x-python",
   "name": "python",
   "nbconvert_exporter": "python",
   "pygments_lexer": "ipython3",
   "version": "3.11.3"
  }
 },
 "nbformat": 4,
 "nbformat_minor": 5
}
