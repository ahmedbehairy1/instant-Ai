{
 "cells": [
  {
   "cell_type": "code",
   "execution_count": 1,
   "id": "11c5002c",
   "metadata": {
    "ExecuteTime": {
     "end_time": "2023-08-06T12:50:50.176940Z",
     "start_time": "2023-08-06T12:50:50.171311Z"
    }
   },
   "outputs": [],
   "source": [
    "##adjacency list"
   ]
  },
  {
   "cell_type": "code",
   "execution_count": 4,
   "id": "87157bf6",
   "metadata": {
    "ExecuteTime": {
     "end_time": "2023-08-06T13:13:26.786854Z",
     "start_time": "2023-08-06T13:13:26.779150Z"
    }
   },
   "outputs": [
    {
     "name": "stdout",
     "output_type": "stream",
     "text": [
      "0 ->1  \n",
      "1 ->2  \n",
      "2 ->0  \n"
     ]
    }
   ],
   "source": [
    "def addEdge(adj, u, v):\n",
    "    adj[u].append(v)\n",
    "   \n",
    "# Function to print adjacency list\n",
    "def adjacencylist(adj, V):\n",
    "     \n",
    "    for i in range (0, V):\n",
    "        print(i, \"->\", end=\"\")\n",
    "         \n",
    "        for x in  adj[i]:\n",
    "            print(x , \" \", end=\"\")\n",
    "       \n",
    "        print()\n",
    "     \n",
    "# Function to initialize the adjacency list\n",
    "# of the given graph\n",
    "def initGraph(V, edges, noOfEdges):\n",
    " \n",
    "    adj = [0]* 3\n",
    "     \n",
    "    for i in range(0, len(adj)):\n",
    "        adj[i] = []\n",
    "   \n",
    "    # Traverse edges array and make edges\n",
    "    for i in range(0, noOfEdges) :\n",
    " \n",
    "         # Function call to make an edge\n",
    "        addEdge(adj, edges[i][0], edges[i][1])\n",
    "     \n",
    " \n",
    "    # Function Call to print adjacency list\n",
    "    adjacencylist(adj, V)\n",
    "   \n",
    "# Driver Code\n",
    "   \n",
    "# Given vertices\n",
    "V = 3\n",
    " \n",
    "# Given edges\n",
    "edges =  [[0, 1 ],  [1, 2 ],  [2, 0 ]]\n",
    " \n",
    "noOfEdges = 3;\n",
    " \n",
    "# Function Call\n",
    "initGraph(V, edges, noOfEdges)"
   ]
  },
  {
   "cell_type": "code",
   "execution_count": null,
   "id": "b27e4a79",
   "metadata": {},
   "outputs": [],
   "source": []
  }
 ],
 "metadata": {
  "kernelspec": {
   "display_name": "Python 3 (ipykernel)",
   "language": "python",
   "name": "python3"
  },
  "language_info": {
   "codemirror_mode": {
    "name": "ipython",
    "version": 3
   },
   "file_extension": ".py",
   "mimetype": "text/x-python",
   "name": "python",
   "nbconvert_exporter": "python",
   "pygments_lexer": "ipython3",
   "version": "3.11.3"
  }
 },
 "nbformat": 4,
 "nbformat_minor": 5
}
