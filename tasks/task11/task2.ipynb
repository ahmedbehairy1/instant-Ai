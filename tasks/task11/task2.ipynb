{
 "cells": [
  {
   "cell_type": "raw",
   "id": "3d225b1c",
   "metadata": {},
   "source": [
    "In Python, a lambda expression is a way to create anonymous functions, also known as lambda functions. These functions are defined using the lambda keyword and are typically used for short, simple operations where a full function definition is not necessary. The general syntax of a lambda expression is:"
   ]
  },
  {
   "cell_type": "code",
   "execution_count": 3,
   "id": "41bc6cc8",
   "metadata": {
    "ExecuteTime": {
     "end_time": "2023-10-03T20:08:51.131168Z",
     "start_time": "2023-10-03T20:08:51.127047Z"
    }
   },
   "outputs": [
    {
     "name": "stdout",
     "output_type": "stream",
     "text": [
      "8\n",
      "8\n"
     ]
    }
   ],
   "source": [
    "# Regular function\n",
    "def add(x, y):\n",
    "    return x + y\n",
    "\n",
    "# Equivalent lambda function\n",
    "add_lambda = lambda x, y: x + y\n",
    "\n",
    "# Using both functions\n",
    "result1 = add(3, 5)\n",
    "result2 = add_lambda(3, 5)\n",
    "\n",
    "print(result1)  \n",
    "print(result2)  "
   ]
  },
  {
   "cell_type": "code",
   "execution_count": null,
   "id": "6f2705c2",
   "metadata": {},
   "outputs": [],
   "source": []
  }
 ],
 "metadata": {
  "kernelspec": {
   "display_name": "Python 3 (ipykernel)",
   "language": "python",
   "name": "python3"
  },
  "language_info": {
   "codemirror_mode": {
    "name": "ipython",
    "version": 3
   },
   "file_extension": ".py",
   "mimetype": "text/x-python",
   "name": "python",
   "nbconvert_exporter": "python",
   "pygments_lexer": "ipython3",
   "version": "3.11.3"
  }
 },
 "nbformat": 4,
 "nbformat_minor": 5
}
